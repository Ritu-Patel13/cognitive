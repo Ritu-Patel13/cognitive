{
 "cells": [
  {
   "cell_type": "code",
   "execution_count": 1,
   "id": "01ec7ec0-3d5b-4597-a050-61bc0c0f65fc",
   "metadata": {},
   "outputs": [
    {
     "name": "stdout",
     "output_type": "stream",
     "text": [
      "List after adding 200 and 300 [10, 20, 30, 40, 50, 60, 70, 200, 300]\n",
      "List after removing 10 and 30 [20, 40, 50, 60, 70, 200, 300]\n",
      "List in ascending order is: [20, 40, 50, 60, 70, 200, 300]\n",
      "List in descending order is: [300, 200, 70, 60, 50, 40, 20]\n"
     ]
    }
   ],
   "source": [
    "L=[10,20,30,40,50,60,70]\n",
    "L.append(200)\n",
    "L.append(300)\n",
    "print('List after adding 200 and 300',L)\n",
    "\n",
    "L.remove(10)\n",
    "L.remove(30)\n",
    "print('List after removing 10 and 30',L)\n",
    "\n",
    "L.sort()\n",
    "print('List in ascending order is:',L)\n",
    "\n",
    "L.sort(reverse=True)\n",
    "print('List in descending order is:',L)\n"
   ]
  },
  {
   "cell_type": "code",
   "execution_count": 2,
   "id": "ca93f69e-b2cf-4d11-a9e7-849fe3d3e0ff",
   "metadata": {},
   "outputs": [
    {
     "name": "stdout",
     "output_type": "stream",
     "text": [
      "Odd numbers are [315, 301, 623, 285, 885, 859, 241, 287, 703, 777, 581, 759, 463, 855, 231, 571, 345, 499, 395, 531, 121, 209, 745, 103, 529, 619, 337, 145, 643, 201, 731, 501, 653, 329, 287, 267, 481, 659, 801, 681, 651, 635, 745, 269]\n",
      "Total Odd numbers are 44\n",
      "Even numbers are [838, 558, 518, 654, 376, 528, 118, 510, 796, 192, 380, 314, 208, 474, 648, 852, 656, 784, 720, 524, 712, 714, 396, 102, 846, 280, 518, 408, 392, 298, 708, 780, 700, 478, 710, 214, 222, 266, 106, 428, 636, 244, 778, 172, 746, 276, 602, 338, 668, 174, 678, 640, 220, 388, 818, 174]\n",
      "Total even numbers are 56\n",
      "Prime numbers are []\n",
      "Total prime numbers are 0\n"
     ]
    }
   ],
   "source": [
    "import random\n",
    "\n",
    "def prime(num):\n",
    "    if num <= 1:\n",
    "        return False\n",
    "        for i in range(2,int(num**0.5)+1):\n",
    "            if num%i==0:\n",
    "                return False\n",
    "                return True\n",
    "\n",
    "random_numbers=[random.randint(100,900) for _ in range(100)]\n",
    "\n",
    "odd_count=0\n",
    "even_count=0\n",
    "prime_count=0\n",
    "\n",
    "odd_no=[]\n",
    "even_no=[]\n",
    "prime_no=[]\n",
    "\n",
    "for num in random_numbers:\n",
    "    if num%2==0:\n",
    "        even_count+=1\n",
    "        even_no.append(num)\n",
    "    else:\n",
    "        odd_count+=1\n",
    "        odd_no.append(num)\n",
    "    if prime(num):\n",
    "        prime_count+=1\n",
    "        prime_no.append(num)\n",
    "\n",
    "print(\"Odd numbers are\",odd_no)\n",
    "print(\"Total Odd numbers are\",odd_count)\n",
    "\n",
    "print(\"Even numbers are\",even_no)\n",
    "print(\"Total even numbers are\",even_count)\n",
    "\n",
    "print(\"Prime numbers are\",prime_no)\n",
    "print(\"Total prime numbers are\",prime_count)\n"
   ]
  },
  {
   "cell_type": "code",
   "execution_count": 8,
   "id": "4e532a7e-6e30-4d39-b513-ef3c7533c066",
   "metadata": {},
   "outputs": [
    {
     "name": "stdout",
     "output_type": "stream",
     "text": [
      "Largest value in tuple is 92\n",
      "Index of maximum value is 5\n",
      "Smallest value in tuple is 45\n",
      "Number of times smallest value occur is 2\n",
      "Tuple as a list [45, 58, 92, 89, 45.4, 76, 89.5, 45]\n"
     ]
    },
    {
     "name": "stdout",
     "output_type": "stream",
     "text": [
      "Enter the value to find 35\n"
     ]
    },
    {
     "name": "stdout",
     "output_type": "stream",
     "text": [
      "The score35 is not present\n"
     ]
    }
   ],
   "source": [
    "scores = (45, 89.5, 76, 45.4, 89, 92, 58, 45)\n",
    "val=max(scores)\n",
    "val1=min(scores)\n",
    "print('Largest value in tuple is',val)\n",
    "print('Index of maximum value is',scores.index(val))\n",
    "print('Smallest value in tuple is',val1)\n",
    "print('Number of times smallest value occur is',scores.count(val1))\n",
    "reverse_list=list(reversed(scores))\n",
    "print('Tuple as a list',reverse_list)\n",
    "res=int(input(\"Enter the value to find\"))\n",
    "if res in scores:\n",
    "    index=scores.index(res)\n",
    "    print(f\"The score {res} first occurs at index {index}\")\n",
    "else:\n",
    "    print(f\"The score {res} is not present\")"
   ]
  },
  {
   "cell_type": "code",
   "execution_count": 13,
   "id": "46b61edb-83c5-48a0-9848-84eeb8b72d23",
   "metadata": {},
   "outputs": [
    {
     "name": "stdout",
     "output_type": "stream",
     "text": [
      "Enter the value to remove 45\n"
     ]
    },
    {
     "name": "stdout",
     "output_type": "stream",
     "text": [
      "Union of two sets is {34, 45, 78, 23, 56, 90}\n",
      "Intersection of two sets is {90, 78}\n",
      "Symmetric Difference of two sets is {34, 45, 23, 56}\n",
      "False\n",
      "The score 45 is not present in set\n"
     ]
    }
   ],
   "source": [
    "A = {34, 56, 78, 90}\n",
    "B = {78, 45, 90, 23}\n",
    "C = A.union(B)\n",
    "D = A.intersection(B)\n",
    "E = A.symmetric_difference(B)\n",
    "F = A.issubset(B)\n",
    "val=int(input(\"Enter the value to remove\"))\n",
    "print(\"Union of two sets is\",C)\n",
    "print(\"Intersection of two sets is\",D)\n",
    "print(\"Symmetric Difference of two sets is\",E)\n",
    "print(F)\n",
    "if val in A:\n",
    "    A.remove(val)\n",
    "    print(f\"The value{val} has been removed from set\")\n",
    "else:\n",
    "    print(f\"The score {val} is not present in set\")"
   ]
  },
  {
   "cell_type": "code",
   "execution_count": 14,
   "id": "a7ffcb71-3c4d-4d58-b352-462b5f394b7b",
   "metadata": {},
   "outputs": [
    {
     "name": "stdout",
     "output_type": "stream",
     "text": [
      "Initial Dictionary : {'Name': 'Kelly', 'Age': 25, 'Salary': 8000, 'City': 'New York'}\n",
      "Final Dictionary: {'Name': 'Kelly', 'Age': 25, 'Salary': 8000, 'Location': 'New York'}\n"
     ]
    }
   ],
   "source": [
    "sample_dict={\"Name\":\"Kelly\",\"Age\":25,\"Salary\":8000,\"City\":\"New York\"}\n",
    "print(\"Initial Dictionary :\",sample_dict)\n",
    "sample_dict['Location']=sample_dict.pop('City')\n",
    "print(\"Final Dictionary:\",str(sample_dict))"
   ]
  },
  {
   "cell_type": "code",
   "execution_count": null,
   "id": "d6aba28b-a757-4824-8720-bf149d742b26",
   "metadata": {},
   "outputs": [],
   "source": []
  }
 ],
 "metadata": {
  "kernelspec": {
   "display_name": "Python 3 (ipykernel)",
   "language": "python",
   "name": "python3"
  },
  "language_info": {
   "codemirror_mode": {
    "name": "ipython",
    "version": 3
   },
   "file_extension": ".py",
   "mimetype": "text/x-python",
   "name": "python",
   "nbconvert_exporter": "python",
   "pygments_lexer": "ipython3",
   "version": "3.13.1"
  }
 },
 "nbformat": 4,
 "nbformat_minor": 5
}
