{
 "cells": [
  {
   "cell_type": "code",
   "execution_count": 1,
   "id": "f4f1800c-d1cb-40cb-b097-12275fdf98e5",
   "metadata": {},
   "outputs": [
    {
     "name": "stdout",
     "output_type": "stream",
     "text": [
      "CognitiveComputing\n"
     ]
    }
   ],
   "source": [
    "print(\"CognitiveComputing\")"
   ]
  },
  {
   "cell_type": "code",
   "execution_count": 2,
   "id": "925c1206-7899-45e7-b6cd-b5bb2dccf6d8",
   "metadata": {},
   "outputs": [
    {
     "name": "stdout",
     "output_type": "stream",
     "text": [
      "Sum of Two Numbers is: 54\n"
     ]
    }
   ],
   "source": [
    "a=9\n",
    "b=45\n",
    "sum=a+b\n",
    "print(\"Sum of Two Numbers is:\",sum)"
   ]
  },
  {
   "cell_type": "code",
   "execution_count": 4,
   "id": "c8b2ec96-08d7-44cd-b8ea-cae368f8cb17",
   "metadata": {},
   "outputs": [],
   "source": [
    "x='Jupyter'\n",
    "y='Lab'\n",
    "z=x+\"\"+y"
   ]
  },
  {
   "cell_type": "code",
   "execution_count": 5,
   "id": "43578e19-9aa0-4b97-b816-fcaf0fb1abcf",
   "metadata": {},
   "outputs": [
    {
     "name": "stdout",
     "output_type": "stream",
     "text": [
      "Final string is: JupyterLab\n"
     ]
    }
   ],
   "source": [
    "print(\"Final string is:\",z)"
   ]
  },
  {
   "cell_type": "code",
   "execution_count": 2,
   "id": "570e255e-f3b7-42e7-aaaa-c791fbf32ccb",
   "metadata": {},
   "outputs": [
    {
     "name": "stdout",
     "output_type": "stream",
     "text": [
      "Final string is: Hello5\n"
     ]
    }
   ],
   "source": [
    "x=\"Hello\"\n",
    "y=5\n",
    "z=x+\"\"+str(y)\n",
    "print(\"Final string is:\",z)"
   ]
  },
  {
   "cell_type": "code",
   "execution_count": 8,
   "id": "0a2e613d-8537-4aa3-ad61-79938081cee8",
   "metadata": {},
   "outputs": [
    {
     "name": "stdout",
     "output_type": "stream",
     "text": [
      "Number is negative\n"
     ]
    }
   ],
   "source": [
    "a=-8\n",
    "if (a<0):\n",
    "    print(\"Number is negative\")\n",
    "elif(a>0):\n",
    "    print(\"Number is positive\")\n",
    "else: \n",
    "    print(\"It is zero\")"
   ]
  },
  {
   "cell_type": "code",
   "execution_count": 7,
   "id": "ea0c183e-7d44-48c0-b7be-3364e8e7083a",
   "metadata": {},
   "outputs": [
    {
     "name": "stdout",
     "output_type": "stream",
     "text": [
      "5 is odd\n"
     ]
    }
   ],
   "source": [
    "a=5\n",
    "if (a%2==0):\n",
    "    print(\"5 is even\")\n",
    "else:\n",
    "    print(\"5 is odd\")"
   ]
  },
  {
   "cell_type": "code",
   "execution_count": 9,
   "id": "24e27927-8720-4889-b077-88868bb76f9a",
   "metadata": {},
   "outputs": [
    {
     "name": "stdout",
     "output_type": "stream",
     "text": [
      "1\n",
      "2\n",
      "3\n",
      "4\n",
      "5\n",
      "6\n",
      "7\n",
      "8\n",
      "9\n",
      "10\n"
     ]
    }
   ],
   "source": [
    "for i in range(1,11):\n",
    "    print(i)"
   ]
  },
  {
   "cell_type": "code",
   "execution_count": 10,
   "id": "96ac5348-00eb-498f-919e-c42821bd801d",
   "metadata": {},
   "outputs": [
    {
     "name": "stdout",
     "output_type": "stream",
     "text": [
      "1\n",
      "2\n",
      "3\n",
      "4\n",
      "5\n",
      "6\n",
      "7\n",
      "8\n",
      "9\n",
      "10\n"
     ]
    }
   ],
   "source": [
    "i=1\n",
    "while(i<=10):\n",
    "    print(i)\n",
    "    i+=1"
   ]
  },
  {
   "cell_type": "code",
   "execution_count": 6,
   "id": "218f1123-2b3f-4cb4-bc96-079a2fc3f88f",
   "metadata": {},
   "outputs": [
    {
     "name": "stdout",
     "output_type": "stream",
     "text": [
      "1\n",
      "3\n",
      "6\n",
      "10\n",
      "15\n",
      "21\n",
      "28\n",
      "36\n",
      "45\n",
      "55\n",
      "66\n",
      "78\n",
      "91\n",
      "105\n",
      "120\n",
      "136\n",
      "153\n",
      "171\n",
      "190\n",
      "210\n",
      "231\n",
      "253\n",
      "276\n",
      "300\n",
      "325\n",
      "351\n",
      "378\n",
      "406\n",
      "435\n",
      "465\n",
      "496\n",
      "528\n",
      "561\n",
      "595\n",
      "630\n",
      "666\n",
      "703\n",
      "741\n",
      "780\n",
      "820\n",
      "861\n",
      "903\n",
      "946\n",
      "990\n",
      "1035\n",
      "1081\n",
      "1128\n",
      "1176\n",
      "1225\n",
      "1275\n",
      "1326\n",
      "1378\n",
      "1431\n",
      "1485\n",
      "1540\n",
      "1596\n",
      "1653\n",
      "1711\n",
      "1770\n",
      "1830\n",
      "1891\n",
      "1953\n",
      "2016\n",
      "2080\n",
      "2145\n",
      "2211\n",
      "2278\n",
      "2346\n",
      "2415\n",
      "2485\n",
      "2556\n",
      "2628\n",
      "2701\n",
      "2775\n",
      "2850\n",
      "2926\n",
      "3003\n",
      "3081\n",
      "3160\n",
      "3240\n",
      "3321\n",
      "3403\n",
      "3486\n",
      "3570\n",
      "3655\n",
      "3741\n",
      "3828\n",
      "3916\n",
      "4005\n",
      "4095\n",
      "4186\n",
      "4278\n",
      "4371\n",
      "4465\n",
      "4560\n",
      "4656\n",
      "4753\n",
      "4851\n",
      "4950\n",
      "5050\n"
     ]
    }
   ],
   "source": [
    "sum=0\n",
    "n=0\n",
    "while n!=100:\n",
    "    n+=1\n",
    "    sum+=n\n",
    "    print(sum)"
   ]
  },
  {
   "cell_type": "code",
   "execution_count": 16,
   "id": "d7f7d8b3-495a-43d1-952b-8fd2597e15a2",
   "metadata": {},
   "outputs": [
    {
     "name": "stdout",
     "output_type": "stream",
     "text": [
      "Largest number in the list is: 50\n",
      "Smallest number in the list is: 10\n"
     ]
    }
   ],
   "source": [
    "a=[10,20,30,40,50]\n",
    "largest=max(a)\n",
    "print(\"Largest number in the list is:\",largest)\n",
    "smallest=min(a)\n",
    "print(\"Smallest number in the list is:\",smallest)"
   ]
  },
  {
   "cell_type": "code",
   "execution_count": 19,
   "id": "03fb81ef-c295-4fd6-a0ad-eb55fcf6b7ba",
   "metadata": {},
   "outputs": [
    {
     "name": "stdout",
     "output_type": "stream",
     "text": [
      "Value of the key:\n",
      "Punjab\n",
      "Printing the entire dictionary:\n",
      "{'Chandigarh': 'Punjab', 'Jaipur': 'Rajasthan', 'Bhopal': 'MadhyaPradesh'}\n"
     ]
    }
   ],
   "source": [
    "state_capitals={\"Chandigarh\":\"Punjab\",\"Jaipur\":\"Rajasthan\",\"Bhopal\":\"MadhyaPradesh\"}\n",
    "print(\"Value of the key:\")\n",
    "print(state_capitals[\"Chandigarh\"])\n",
    "print(\"Printing the entire dictionary:\")\n",
    "print(state_capitals)"
   ]
  },
  {
   "cell_type": "code",
   "execution_count": 20,
   "id": "ba44fcb3-6d1a-4f33-a22f-534819e578e2",
   "metadata": {},
   "outputs": [
    {
     "name": "stdout",
     "output_type": "stream",
     "text": [
      "List in descending order is: [50, 40, 30, 20, 10]\n",
      "List in ascending order is: [10, 20, 30, 40, 50]\n"
     ]
    }
   ],
   "source": [
    "list=[10,20,30,40,50]\n",
    "list.reverse()\n",
    "print(\"List in descending order is:\",list)\n",
    "list.sort()\n",
    "print(\"List in ascending order is:\",list)"
   ]
  },
  {
   "cell_type": "code",
   "execution_count": 21,
   "id": "590ac3a4-f375-4d01-a6d7-8c91082c88db",
   "metadata": {},
   "outputs": [
    {
     "name": "stdout",
     "output_type": "stream",
     "text": [
      "{'x': 1, 'y': 3, 'z': 4}\n"
     ]
    }
   ],
   "source": [
    "d1={'x':1,'y':2}\n",
    "d2={'y':3,'z':4}\n",
    "d1.update(d2)\n",
    "print(d1)"
   ]
  },
  {
   "cell_type": "code",
   "execution_count": 24,
   "id": "1f6ccb21-936f-483b-86cc-c9b596be4217",
   "metadata": {},
   "outputs": [
    {
     "name": "stdout",
     "output_type": "stream",
     "text": [
      "Enter the string Cognitive\n"
     ]
    },
    {
     "name": "stdout",
     "output_type": "stream",
     "text": [
      "Number of vowels in given string is: 4\n"
     ]
    }
   ],
   "source": [
    "string=input('Enter the string')\n",
    "str_lower=string.lower()\n",
    "vowels=\"aeiou\"\n",
    "count=0\n",
    "for i in str_lower:\n",
    "    if i in vowels:\n",
    "        count=count+1\n",
    "print(\"Number of vowels in given string is:\",count)"
   ]
  },
  {
   "cell_type": "code",
   "execution_count": 25,
   "id": "d0ec89c9-e28e-427e-a804-4181e7194e21",
   "metadata": {},
   "outputs": [
    {
     "name": "stdout",
     "output_type": "stream",
     "text": [
      "Reverse string is: gnitupmoCevitingoC\n"
     ]
    }
   ],
   "source": [
    "s='CognitiveComputing'\n",
    "reverse=s[::-1]\n",
    "print(\"Reverse string is:\",reverse)"
   ]
  },
  {
   "cell_type": "code",
   "execution_count": 26,
   "id": "1eb5bd4e-7bce-44b5-80af-a914e952ddd5",
   "metadata": {},
   "outputs": [
    {
     "name": "stdout",
     "output_type": "stream",
     "text": [
      "String is palindrome\n"
     ]
    }
   ],
   "source": [
    "str=\"malayalam\"\n",
    "if(str==str[::-1]):\n",
    "   print(\"String is palindrome\")\n",
    "else:\n",
    "    print(\"Not palindrome\")\n"
   ]
  },
  {
   "cell_type": "code",
   "execution_count": 27,
   "id": "7b63d168-0589-4d25-9b40-ef4d29a24d57",
   "metadata": {},
   "outputs": [
    {
     "name": "stdout",
     "output_type": "stream",
     "text": [
      "Lines are written to text.txt\n",
      "Contents of file\n",
      "\n"
     ]
    }
   ],
   "source": [
    "file_name=\"text.txt\"\n",
    "with open(file_name,'w') as file:\n",
    "    file.write(\"First line of file\\n\")\n",
    "    file.write(\"Second line of file.\\n\")\n",
    "\n",
    "    print(f\"Lines are written to {file_name}\")\n",
    "    with open(file_name,'r') as file:\n",
    "        content=file.read()\n",
    "\n",
    "        print(\"Contents of file\")\n",
    "        print(content)"
   ]
  },
  {
   "cell_type": "code",
   "execution_count": 30,
   "id": "1feaba04-5c56-4ca8-8ee8-8ffd367729d4",
   "metadata": {},
   "outputs": [
    {
     "name": "stdout",
     "output_type": "stream",
     "text": [
      "Text is added to text.txt\n",
      "Updated contents of file :\n",
      "First line of file\n",
      "Second line of file.\n",
      "New line is written\n"
     ]
    }
   ],
   "source": [
    "file_name=\"text.txt\"\n",
    "with open(file_name,'a') as file:\n",
    "    file.write(\"New line is written\")\n",
    "    print(f\"Text is added to {file_name}\")\n",
    "\n",
    "    with open(file_name,'r') as file:\n",
    "        content=file.read()\n",
    "        print(\"Updated contents of file :\")\n",
    "        print(content)"
   ]
  },
  {
   "cell_type": "code",
   "execution_count": 33,
   "id": "6c06c985-8807-4186-97f9-90ce62342fc3",
   "metadata": {},
   "outputs": [
    {
     "name": "stdout",
     "output_type": "stream",
     "text": [
      "number of lines in the file 'text.txt' is: 1\n",
      "number of lines in the file 'text.txt' is: 2\n",
      "number of lines in the file 'text.txt' is: 3\n"
     ]
    }
   ],
   "source": [
    "file_name=\"text.txt\"\n",
    "line_count = 0\n",
    "with open(file_name,'r') as file:\n",
    "    for line in file:\n",
    "        line_count+=1\n",
    "        print(f\"number of lines in the file '{file_name}' is: {line_count}\")\n"
   ]
  },
  {
   "cell_type": "code",
   "execution_count": 28,
   "id": "2b7a15be-a56e-4c8b-9020-042bdda549ee",
   "metadata": {},
   "outputs": [
    {
     "name": "stdout",
     "output_type": "stream",
     "text": [
      "Can't divide by zero\n"
     ]
    }
   ],
   "source": [
    "a=4\n",
    "b=0\n",
    "try:\n",
    "    result=a/b\n",
    "except ZeroDivisionError:\n",
    "    print(\"Can't divide by zero\")"
   ]
  },
  {
   "cell_type": "code",
   "execution_count": 8,
   "id": "d420a267-c0f4-42f4-afdf-6856796690f8",
   "metadata": {},
   "outputs": [
    {
     "name": "stdout",
     "output_type": "stream",
     "text": [
      "Enter a number abc\n"
     ]
    },
    {
     "name": "stdout",
     "output_type": "stream",
     "text": [
      "Invalid Input\n",
      "Valid Input\n"
     ]
    },
    {
     "name": "stdout",
     "output_type": "stream",
     "text": [
      "Enter a number 4\n"
     ]
    }
   ],
   "source": [
    "while True:\n",
    "    try:\n",
    "        user_input=input(\"Enter a number\")\n",
    "        number=int(user_input)\n",
    "        break\n",
    "    except ValueError:\n",
    "        print(\"Invalid Input\")"
   ]
  },
  {
   "cell_type": "code",
   "execution_count": 10,
   "id": "2714500f-8843-46df-a210-b9a4bbba1893",
   "metadata": {},
   "outputs": [
    {
     "name": "stdout",
     "output_type": "stream",
     "text": [
      "Enter integer efg\n"
     ]
    },
    {
     "name": "stdout",
     "output_type": "stream",
     "text": [
      "Not a valid integer\n",
      "It will always run\n"
     ]
    }
   ],
   "source": [
    "try:\n",
    "    userinput=input(\"Enter integer\")\n",
    "    number=int(userinput)\n",
    "except ValueError:\n",
    "    print(\"Not a valid integer\")\n",
    "finally:\n",
    "    print(\"It will always run\")"
   ]
  },
  {
   "cell_type": "code",
   "execution_count": 32,
   "id": "3d52e3ea-83f0-4739-98d2-39ce06894029",
   "metadata": {},
   "outputs": [
    {
     "name": "stdout",
     "output_type": "stream",
     "text": [
      "50\n"
     ]
    }
   ],
   "source": [
    "import random\n",
    "n=random.randint(1,100)\n",
    "print(n)"
   ]
  },
  {
   "cell_type": "code",
   "execution_count": 11,
   "id": "246a5dbd-3b2b-4fe3-afe6-3c0052902de0",
   "metadata": {},
   "outputs": [
    {
     "name": "stdout",
     "output_type": "stream",
     "text": [
      "Random number is:50\n",
      "50is not prime\n"
     ]
    }
   ],
   "source": [
    "import random\n",
    "def prime(number):\n",
    "    if number<=1:\n",
    "        return False\n",
    "        for i in range(2,int(number**0.5)+1):\n",
    "            if number%i==0:\n",
    "                return False\n",
    "            return True\n",
    "random_number=random.randint(1,100)\n",
    "print(f\"Random number is:{random_number}\")\n",
    "if prime(random_number):\n",
    "    print(f\"{random_number} is prime\")\n",
    "else:\n",
    "    print(f\"{random_number} is not prime\")"
   ]
  },
  {
   "cell_type": "code",
   "execution_count": 34,
   "id": "87c20004-8311-4ef7-9d92-245be1a35510",
   "metadata": {},
   "outputs": [
    {
     "name": "stdout",
     "output_type": "stream",
     "text": [
      "4\n"
     ]
    }
   ],
   "source": [
    "a=[1,2,3,4,5]\n",
    "random_num=random.choice(a)\n",
    "print(random_num)"
   ]
  },
  {
   "cell_type": "code",
   "execution_count": 20,
   "id": "10dc2369-d9ad-483e-b40f-bfc2d2c0208f",
   "metadata": {},
   "outputs": [],
   "source": [
    "import random\n",
    "import string\n",
    "\n",
    "def password(length):\n",
    "    characters=string.ascii_letters + string.digits + string.punctuation\n",
    "    password=''.join(random.choice(characters) for _ in range(length))\n",
    "\n",
    "    return password\n",
    "    password_length=int(input(\"Enter the desired password length\"))\n",
    "    "
   ]
  },
  {
   "cell_type": "code",
   "execution_count": 23,
   "id": "8e9965cc-2aec-4f15-a742-2ecdd224a4d4",
   "metadata": {},
   "outputs": [
    {
     "name": "stdout",
     "output_type": "stream",
     "text": [
      "Enter valid numbers\n"
     ]
    }
   ],
   "source": [
    "import sys\n",
    "if len(sys.argv)!=3:\n",
    "    print(\"Provide two numbers as command line arguments\")\n",
    "else:\n",
    "    try:\n",
    "        num1=float(sys.argv[1])\n",
    "        num2=float(sys.argv[2])\n",
    "        result=num1+num2\n",
    "\n",
    "        print(f\"Final Result on adding{num1} and {num2} is:{result}\")\n",
    "    except ValueError:\n",
    "        print(\"Enter valid numbers\")"
   ]
  },
  {
   "cell_type": "code",
   "execution_count": 24,
   "id": "7b1f6f3f-98cd-4841-990a-d382be863194",
   "metadata": {},
   "outputs": [
    {
     "name": "stdout",
     "output_type": "stream",
     "text": [
      "Please provide a string as command line argument\n"
     ]
    }
   ],
   "source": [
    "import sys \n",
    "if len(sys.argv)!=2:\n",
    "    print(\"Please provide a string as command line argument\")\n",
    "else:\n",
    "    input_string=sys.argv[1]\n",
    "    string_length=len(input_string)\n",
    "    print(f\"length of string is:{string_length}\")"
   ]
  },
  {
   "cell_type": "code",
   "execution_count": 21,
   "id": "52aa7724-e094-4283-abb9-4812cb162669",
   "metadata": {},
   "outputs": [
    {
     "name": "stdout",
     "output_type": "stream",
     "text": [
      "Original list is:\n",
      "[1, 2, 3, 4, 5]\n",
      "After Shuffling\n",
      "[1, 3, 2, 5, 4]\n"
     ]
    }
   ],
   "source": [
    "import random\n",
    "list=[1,2,3,4,5]\n",
    "print('Original list is:')\n",
    "print(list)\n",
    "random.shuffle(list)\n",
    "print('After Shuffling')\n",
    "print(list)"
   ]
  },
  {
   "cell_type": "code",
   "execution_count": 22,
   "id": "9a913c7e-1c14-457b-9c24-b52f70f6a7ed",
   "metadata": {},
   "outputs": [
    {
     "name": "stdout",
     "output_type": "stream",
     "text": [
      "3.0\n"
     ]
    }
   ],
   "source": [
    "import math\n",
    "print(math.sqrt(9))"
   ]
  },
  {
   "cell_type": "code",
   "execution_count": 36,
   "id": "5be9bd6d-d3e1-4a27-a469-7aa4ea0be82a",
   "metadata": {},
   "outputs": [
    {
     "name": "stdout",
     "output_type": "stream",
     "text": [
      "currnt time is: 21:59:38\n"
     ]
    }
   ],
   "source": [
    "from datetime import datetime\n",
    "c=datetime.now()\n",
    "current_time=c.strftime('%H:%M:%S')\n",
    "print('currnt time is:',current_time)"
   ]
  },
  {
   "cell_type": "code",
   "execution_count": 25,
   "id": "4e114b3b-35b7-4c98-9242-64e88b06b566",
   "metadata": {},
   "outputs": [
    {
     "name": "stdout",
     "output_type": "stream",
     "text": [
      "Files in current directory:\n",
      ".bash_history\n",
      ".gitconfig\n",
      ".lesshst\n",
      "Assignment1.ipynb\n",
      "HelloWorld.c\n",
      "NTUSER.DAT\n",
      "ntuser.dat.LOG1\n",
      "ntuser.dat.LOG2\n",
      "NTUSER.DAT{a2332f18-cdbf-11ec-8680-002248483d79}.TM.blf\n",
      "NTUSER.DAT{a2332f18-cdbf-11ec-8680-002248483d79}.TMContainer00000000000000000001.regtrans-ms\n",
      "NTUSER.DAT{a2332f18-cdbf-11ec-8680-002248483d79}.TMContainer00000000000000000002.regtrans-ms\n",
      "ntuser.ini\n",
      "text.txt\n"
     ]
    }
   ],
   "source": [
    "import os\n",
    "entries=os.listdir()\n",
    "files=[entry for entry in entries if os.path.isfile(entry)]\n",
    "print(\"Files in current directory:\")\n",
    "for file in files:\n",
    "    print(file)"
   ]
  }
 ],
 "metadata": {
  "kernelspec": {
   "display_name": "Python 3 (ipykernel)",
   "language": "python",
   "name": "python3"
  },
  "language_info": {
   "codemirror_mode": {
    "name": "ipython",
    "version": 3
   },
   "file_extension": ".py",
   "mimetype": "text/x-python",
   "name": "python",
   "nbconvert_exporter": "python",
   "pygments_lexer": "ipython3",
   "version": "3.13.1"
  }
 },
 "nbformat": 4,
 "nbformat_minor": 5
}
