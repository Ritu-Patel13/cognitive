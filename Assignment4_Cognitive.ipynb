{
 "cells": [
  {
   "cell_type": "code",
   "execution_count": 1,
   "id": "03519a5d-4002-43c8-b7c9-ab4bf15a87d8",
   "metadata": {},
   "outputs": [
    {
     "name": "stdout",
     "output_type": "stream",
     "text": [
      "Array after adding 2: [12 22 32 42 52]\n",
      "Array after multiplying: [ 30  60  90 120 150]\n",
      "Array after dividing: [ 5. 10. 15. 20. 25.]\n"
     ]
    }
   ],
   "source": [
    "import numpy as np\n",
    "\n",
    "arr = np.array([10, 20, 30, 40, 50])\n",
    "\n",
    "add = arr + 2\n",
    "print(\"Array after adding 2:\", add)\n",
    "\n",
    "multiply = arr * 3\n",
    "print(\"Array after multiplying:\", multiply)\n",
    "\n",
    "divide = arr / 2\n",
    "print(\"Array after dividing:\", divide)\n"
   ]
  },
  {
   "cell_type": "code",
   "execution_count": 4,
   "id": "db44a3dd-b69e-4570-bc7a-f2071fb0db18",
   "metadata": {},
   "outputs": [
    {
     "name": "stdout",
     "output_type": "stream",
     "text": [
      "Initial Array: [1 2 3 6 4 5]\n",
      "Reversed array: [5 4 6 3 2 1]\n",
      "Original Array:\n",
      "[1 2 3 4 5 1 2 1 1 1]\n",
      "Most frequent value in above array: 1\n",
      "Original Array:\n",
      "[1 1 1 2 3 4 2 4 3 3 3]\n",
      "Most frequent value in above array: 3\n"
     ]
    }
   ],
   "source": [
    "import numpy as np\n",
    "array = np.array([1,2,3,6,4,5])\n",
    "print(\"Initial Array:\",str(array))\n",
    "reverse = array[::-1]\n",
    "print(\"Reversed array:\",str(reverse))\n",
    "x = np.array([1,2,3,4,5,1,2,1,1,1])\n",
    "print(\"Original Array:\")\n",
    "print(x)\n",
    "print(\"Most frequent value in above array:\",np.bincount(x).argmax())\n",
    "y = np.array([1, 1, 1, 2, 3, 4, 2, 4, 3, 3,3]) \n",
    "print(\"Original Array:\")\n",
    "print(y)\n",
    "print(\"Most frequent value in above array:\",np.bincount(y).argmax())"
   ]
  },
  {
   "cell_type": "code",
   "execution_count": 6,
   "id": "27b3e40b-76fd-43d0-86f8-44e40a9eecd7",
   "metadata": {},
   "outputs": [
    {
     "name": "stdout",
     "output_type": "stream",
     "text": [
      "Element at given index : 20\n",
      "Element at given index: 70\n"
     ]
    }
   ],
   "source": [
    "import numpy as np\n",
    "arr = np.array([[10, 20, 30], [40, 50, 60], [70, 80, 90]])\n",
    "print(\"Element at given index :\",arr[0,1])\n",
    "print(\"Element at given index:\", arr[2,0])"
   ]
  },
  {
   "cell_type": "code",
   "execution_count": 14,
   "id": "2d176676-bd79-4400-ae50-362cb1fad8e7",
   "metadata": {},
   "outputs": [
    {
     "name": "stdout",
     "output_type": "stream",
     "text": [
      "The array over the given range is  [10.  13.6 17.2 20.8 24.4 28.  31.6 35.2 38.8 42.4 46.  49.6 53.2 56.8\n",
      " 60.4 64.  67.6 71.2 74.8 78.4 82.  85.6 89.2 92.8 96.4]\n",
      "Dimensions: 1\n",
      "Shape: (25,)\n",
      "Total Elements: 25\n",
      "Data Type: float64\n",
      "Total Bytes: 200\n"
     ]
    },
    {
     "data": {
      "text/plain": [
       "array([10. , 13.6, 17.2, 20.8, 24.4, 28. , 31.6, 35.2, 38.8, 42.4, 46. ,\n",
       "       49.6, 53.2, 56.8, 60.4, 64. , 67.6, 71.2, 74.8, 78.4, 82. , 85.6,\n",
       "       89.2, 92.8, 96.4])"
      ]
     },
     "execution_count": 14,
     "metadata": {},
     "output_type": "execute_result"
    }
   ],
   "source": [
    "import numpy as np  \n",
    "arr = np.linspace(10, 100, 25, endpoint = False)  \n",
    "print(\"The array over the given range is \",arr)  \n",
    "print(\"Dimensions:\",arr.ndim)\n",
    "print(\"Shape:\",arr.shape)\n",
    "print(\"Total Elements:\",arr.size)\n",
    "print(\"Data Type:\",arr.dtype)\n",
    "print(\"Total Bytes:\",arr.nbytes)\n",
    "b = arr.reshape(25,1)\n",
    "b\n",
    "transpose = arr.T\n",
    "transpose\n"
   ]
  },
  {
   "cell_type": "code",
   "execution_count": 16,
   "id": "ec0a9908-b89e-49c8-8e54-f55eefbbc023",
   "metadata": {},
   "outputs": [
    {
     "name": "stdout",
     "output_type": "stream",
     "text": [
      "Mean: 43.333333333333336\n",
      "Median: 37.5\n",
      "Max: 90\n",
      "Min: 10\n",
      "Unique elements: [10 15 20 30 35 40 50 60 70 80 90]\n",
      "Reshaped array: [[10 20 30]\n",
      " [40 50 60]\n",
      " [70 80 90]\n",
      " [15 20 35]]\n",
      "Resized array : None\n"
     ]
    }
   ],
   "source": [
    "import numpy as np\n",
    "arr = np.array([[10,20,30,40],[50,60,70,80],[90,15,20,35]])\n",
    "mean_value = np.mean(arr)\n",
    "median_value = np.median(arr)\n",
    "max_value = np.max(arr)\n",
    "min_value = np.min(arr)\n",
    "unique_elements = np.unique(arr)\n",
    "\n",
    "print(\"Mean:\",mean_value)\n",
    "print(\"Median:\",median_value)\n",
    "print(\"Max:\",max_value)\n",
    "print(\"Min:\",min_value)\n",
    "print(\"Unique elements:\",unique_elements)\n",
    "\n",
    "print(\"Reshaped array:\", arr.reshape(4,3))\n",
    "\n",
    "brr = arr.resize(2,3)\n",
    "print(\"Resized array :\",brr)\n"
   ]
  },
  {
   "cell_type": "code",
   "execution_count": null,
   "id": "99133b9c-8340-4f43-81e3-55f618c3359f",
   "metadata": {},
   "outputs": [],
   "source": []
  }
 ],
 "metadata": {
  "kernelspec": {
   "display_name": "Python 3 (ipykernel)",
   "language": "python",
   "name": "python3"
  },
  "language_info": {
   "codemirror_mode": {
    "name": "ipython",
    "version": 3
   },
   "file_extension": ".py",
   "mimetype": "text/x-python",
   "name": "python",
   "nbconvert_exporter": "python",
   "pygments_lexer": "ipython3",
   "version": "3.13.1"
  }
 },
 "nbformat": 4,
 "nbformat_minor": 5
}
