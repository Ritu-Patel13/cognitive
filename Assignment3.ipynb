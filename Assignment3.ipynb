{
 "cells": [
  {
   "cell_type": "code",
   "execution_count": 5,
   "id": "82f261e2-b4e4-49c2-8ac4-4402c7e487d6",
   "metadata": {},
   "outputs": [
    {
     "name": "stdout",
     "output_type": "stream",
     "text": [
      "   tid Refund Marital Status  Taxable Income Cheat\n",
      "0    1    Yes         Single          125000    No\n",
      "1    2     No        Married          100000    No\n",
      "2    3     No         Single           70000    No\n",
      "3    4    Yes        Married          120000    No\n",
      "4    5     No       Divorced           95000   Yes\n",
      "5    6     No        Married           60000    No\n",
      "6    7    Yes       Divorced          220000    No\n",
      "7    8     No         Single           85000   Yes\n",
      "8    9     No        Married           75000    No\n",
      "9   10     No         Single           90000   Yes\n"
     ]
    }
   ],
   "source": [
    "import pandas as pd\n",
    "\n",
    "data = {\n",
    "    \"tid\":[1,2,3,4,5,6,7,8,9,10],\n",
    "    \"Refund\":[\"Yes\",\"No\",\"No\",\"Yes\",\"No\",\"No\",\"Yes\",\"No\",\"No\",\"No\"],\n",
    "    \"Marital Status\":[\"Single\",\"Married\",\"Single\",\"Married\",\"Divorced\",\"Married\",\"Divorced\",\"Single\",\"Married\",\"Single\"],\n",
    "    \"Taxable Income\":[125000,100000,70000,120000,95000,60000,220000,85000,75000,90000],\n",
    "    \"Cheat\":[\"No\",\"No\",\"No\",\"No\",\"Yes\",\"No\",\"No\",\"Yes\",\"No\",\"Yes\"]\n",
    "}\n",
    "\n",
    "df = pd.DataFrame(data)\n",
    "print(df)"
   ]
  },
  {
   "cell_type": "code",
   "execution_count": 6,
   "id": "9a0a50df-ce78-4fb6-86e0-6764af77ae16",
   "metadata": {},
   "outputs": [
    {
     "name": "stdout",
     "output_type": "stream",
     "text": [
      "   tid Refund Marital Status  Taxable Income Cheat\n",
      "0    1    Yes         Single          125000    No\n",
      "4    5     No       Divorced           95000   Yes\n",
      "7    8     No         Single           85000   Yes\n"
     ]
    }
   ],
   "source": [
    " print(df.iloc[[0, 4, 7]]) "
   ]
  },
  {
   "cell_type": "code",
   "execution_count": 8,
   "id": "a8049e4b-1d3f-43ef-9a82-0859d85c0270",
   "metadata": {},
   "outputs": [
    {
     "name": "stdout",
     "output_type": "stream",
     "text": [
      "   tid Refund Marital Status  Taxable Income Cheat\n",
      "3    4    Yes        Married          120000    No\n",
      "4    5     No       Divorced           95000   Yes\n",
      "5    6     No        Married           60000    No\n",
      "6    7    Yes       Divorced          220000    No\n",
      "7    8     No         Single           85000   Yes\n",
      "  Refund Marital Status\n",
      "4     No       Divorced\n",
      "5     No        Married\n",
      "6    Yes       Divorced\n",
      "7     No         Single\n",
      "8     No        Married\n",
      "  Refund Marital Status  Taxable Income\n",
      "0    Yes         Single          125000\n",
      "1     No        Married          100000\n",
      "2     No         Single           70000\n",
      "3    Yes        Married          120000\n",
      "4     No       Divorced           95000\n",
      "5     No        Married           60000\n",
      "6    Yes       Divorced          220000\n",
      "7     No         Single           85000\n",
      "8     No        Married           75000\n",
      "9     No         Single           90000\n"
     ]
    }
   ],
   "source": [
    "print(df.iloc[3:8])\n",
    "print(df.iloc[4:9,1:3])\n",
    "print(df.iloc[:,1:4])\n",
    "      "
   ]
  },
  {
   "cell_type": "code",
   "execution_count": 11,
   "id": "b563b1b3-537e-4c39-927a-2768d6c80b04",
   "metadata": {},
   "outputs": [
    {
     "name": "stdout",
     "output_type": "stream",
     "text": [
      "   Employee ID     Name Department  Age  Salary  Years of Experience  \\\n",
      "0          101    Alice         HR   29   50000                    4   \n",
      "1          102      Bob         IT   34   70000                    8   \n",
      "2          103  Charlie         IT   41   65000                   10   \n",
      "3          104    Diana  Marketing   28   55000                    3   \n",
      "4          105   Edward      Sales   38   60000                   12   \n",
      "\n",
      "  Joining Date  Gender  Bonus  Rating  \n",
      "0   2020-03-15  Female   5000     4.5  \n",
      "1   2017-07-19    Male   7000     4.0  \n",
      "2   2013-06-01    Male   6000     3.8  \n",
      "3   2021-02-10  Female   4500     4.7  \n",
      "4   2021-11-25    Male   5000     3.5  \n"
     ]
    }
   ],
   "source": [
    "import pandas as pd\n",
    "\n",
    "data = {\n",
    "    'Employee ID' : [101,102,103,104,105],\n",
    "    'Name' : ['Alice','Bob','Charlie','Diana','Edward'],\n",
    "    'Department' : ['HR','IT','IT','Marketing','Sales'],\n",
    "    'Age' : [29,34,41,28,38],\n",
    "    'Salary'  : [50000,70000,65000,55000,60000],\n",
    "    'Years of Experience' : [4,8,10,3,12],\n",
    "    'Joining Date' : ['2020-03-15','2017-07-19','2013-06-01','2021-02-10','2021-11-25'],\n",
    "    'Gender' : ['Female','Male','Male','Female','Male'],\n",
    "    'Bonus' : [5000,7000,6000,4500,5000],\n",
    "    'Rating' : [4.5,4.0,3.8,4.7,3.5]\n",
    "}\n",
    "\n",
    "df = pd.DataFrame(data)\n",
    "df.to_csv('employees.csv',index=False)\n",
    "\n",
    "print(df)\n",
    "\n"
   ]
  },
  {
   "cell_type": "code",
   "execution_count": 12,
   "id": "ae3f213f-d3ff-464a-b36c-019c44aa199d",
   "metadata": {},
   "outputs": [
    {
     "name": "stdout",
     "output_type": "stream",
     "text": [
      "Shape of data frame: (5, 10)\n"
     ]
    }
   ],
   "source": [
    "shape = df.shape\n",
    "print(\"Shape of data frame:\",shape)"
   ]
  },
  {
   "cell_type": "code",
   "execution_count": 13,
   "id": "d5a74d9a-7f19-4831-8f0f-3f7d7e0bd8a2",
   "metadata": {},
   "outputs": [
    {
     "name": "stdout",
     "output_type": "stream",
     "text": [
      "<class 'pandas.core.frame.DataFrame'>\n",
      "RangeIndex: 5 entries, 0 to 4\n",
      "Data columns (total 10 columns):\n",
      " #   Column               Non-Null Count  Dtype  \n",
      "---  ------               --------------  -----  \n",
      " 0   Employee ID          5 non-null      int64  \n",
      " 1   Name                 5 non-null      object \n",
      " 2   Department           5 non-null      object \n",
      " 3   Age                  5 non-null      int64  \n",
      " 4   Salary               5 non-null      int64  \n",
      " 5   Years of Experience  5 non-null      int64  \n",
      " 6   Joining Date         5 non-null      object \n",
      " 7   Gender               5 non-null      object \n",
      " 8   Bonus                5 non-null      int64  \n",
      " 9   Rating               5 non-null      float64\n",
      "dtypes: float64(1), int64(5), object(4)\n",
      "memory usage: 532.0+ bytes\n"
     ]
    }
   ],
   "source": [
    "df_info = df.info()"
   ]
  },
  {
   "cell_type": "code",
   "execution_count": 14,
   "id": "6ff064ea-c773-4e06-a20a-7be308515809",
   "metadata": {},
   "outputs": [
    {
     "name": "stdout",
     "output_type": "stream",
     "text": [
      "       Employee ID        Age       Salary  Years of Experience   Bonus  \\\n",
      "count     5.000000   5.000000      5.00000             5.000000     5.0   \n",
      "mean    103.000000  34.000000  60000.00000             7.400000  5500.0   \n",
      "std       1.581139   5.612486   7905.69415             3.847077  1000.0   \n",
      "min     101.000000  28.000000  50000.00000             3.000000  4500.0   \n",
      "25%     102.000000  29.000000  55000.00000             4.000000  5000.0   \n",
      "50%     103.000000  34.000000  60000.00000             8.000000  5000.0   \n",
      "75%     104.000000  38.000000  65000.00000            10.000000  6000.0   \n",
      "max     105.000000  41.000000  70000.00000            12.000000  7000.0   \n",
      "\n",
      "         Rating  \n",
      "count  5.000000  \n",
      "mean   4.100000  \n",
      "std    0.494975  \n",
      "min    3.500000  \n",
      "25%    3.800000  \n",
      "50%    4.000000  \n",
      "75%    4.500000  \n",
      "max    4.700000  \n"
     ]
    }
   ],
   "source": [
    "print(df.describe())"
   ]
  },
  {
   "cell_type": "code",
   "execution_count": 16,
   "id": "6bab3ecf-9201-47a1-b86a-1df45e81b966",
   "metadata": {},
   "outputs": [
    {
     "name": "stdout",
     "output_type": "stream",
     "text": [
      "First five rows     Employee ID     Name Department  Age  Salary  Years of Experience  \\\n",
      "0          101    Alice         HR   29   50000                    4   \n",
      "1          102      Bob         IT   34   70000                    8   \n",
      "2          103  Charlie         IT   41   65000                   10   \n",
      "3          104    Diana  Marketing   28   55000                    3   \n",
      "4          105   Edward      Sales   38   60000                   12   \n",
      "\n",
      "  Joining Date  Gender  Bonus  Rating  \n",
      "0   2020-03-15  Female   5000     4.5  \n",
      "1   2017-07-19    Male   7000     4.0  \n",
      "2   2013-06-01    Male   6000     3.8  \n",
      "3   2021-02-10  Female   4500     4.7  \n",
      "4   2021-11-25    Male   5000     3.5  \n",
      "Last three rows     Employee ID     Name Department  Age  Salary  Years of Experience  \\\n",
      "2          103  Charlie         IT   41   65000                   10   \n",
      "3          104    Diana  Marketing   28   55000                    3   \n",
      "4          105   Edward      Sales   38   60000                   12   \n",
      "\n",
      "  Joining Date  Gender  Bonus  Rating  \n",
      "2   2013-06-01    Male   6000     3.8  \n",
      "3   2021-02-10  Female   4500     4.7  \n",
      "4   2021-11-25    Male   5000     3.5  \n"
     ]
    }
   ],
   "source": [
    "print(\"First five rows \",df.head(5))\n",
    "print(\"Last three rows \",df.tail(3))"
   ]
  },
  {
   "cell_type": "code",
   "execution_count": 18,
   "id": "747152ed-54f6-41e3-a585-727e0901e47f",
   "metadata": {},
   "outputs": [
    {
     "name": "stdout",
     "output_type": "stream",
     "text": [
      "The average salary of employees: 60000.0\n",
      "The total bonus paid to all employees: 30000.0\n",
      "The youngest employee's age: 28\n",
      "The highest performance rating: 4.7\n"
     ]
    }
   ],
   "source": [
    "print(\"The average salary of employees:\", df['Salary'].mean())\n",
    "print(\"The total bonus paid to all employees:\", (df['Salary']*0.10).sum())\n",
    "print(\"The youngest employee's age:\", df['Age'].min())\n",
    "print(\"The highest performance rating:\", df['Rating'].max())"
   ]
  },
  {
   "cell_type": "code",
   "execution_count": 19,
   "id": "52d5dd93-e15a-4274-9f4c-820dbe13c06d",
   "metadata": {},
   "outputs": [
    {
     "name": "stdout",
     "output_type": "stream",
     "text": [
      "   Employee ID     Name Department  Age  Salary  Years of Experience  \\\n",
      "1          102      Bob         IT   34   70000                    8   \n",
      "2          103  Charlie         IT   41   65000                   10   \n",
      "4          105   Edward      Sales   38   60000                   12   \n",
      "3          104    Diana  Marketing   28   55000                    3   \n",
      "0          101    Alice         HR   29   50000                    4   \n",
      "\n",
      "  Joining Date  Gender  Bonus  Rating  \n",
      "1   2017-07-19    Male   7000     4.0  \n",
      "2   2013-06-01    Male   6000     3.8  \n",
      "4   2021-11-25    Male   5000     3.5  \n",
      "3   2021-02-10  Female   4500     4.7  \n",
      "0   2020-03-15  Female   5000     4.5  \n"
     ]
    }
   ],
   "source": [
    "print(df.sort_values(by='Salary', ascending=False))\n",
    "\n"
   ]
  },
  {
   "cell_type": "code",
   "execution_count": 21,
   "id": "b6dda097-17ca-4bdf-a511-d45c3f026619",
   "metadata": {},
   "outputs": [
    {
     "name": "stdout",
     "output_type": "stream",
     "text": [
      "   Employee ID     Name Department  Age  Salary  Years of Experience  \\\n",
      "0          101    Alice         HR   29   50000                    4   \n",
      "1          102      Bob         IT   34   70000                    8   \n",
      "2          103  Charlie         IT   41   65000                   10   \n",
      "3          104    Diana  Marketing   28   55000                    3   \n",
      "4          105   Edward      Sales   38   60000                   12   \n",
      "\n",
      "  Joining Date  Gender  Bonus  Rating Performance Category  \n",
      "0   2020-03-15  Female   5000     4.5            Excellent  \n",
      "1   2017-07-19    Male   7000     4.0                 Good  \n",
      "2   2013-06-01    Male   6000     3.8              Average  \n",
      "3   2021-02-10  Female   4500     4.7            Excellent  \n",
      "4   2021-11-25    Male   5000     3.5              Average  \n"
     ]
    }
   ],
   "source": [
    "def categorize_performance(rating):\n",
    "    if rating >= 4.5:\n",
    "        return 'Excellent'\n",
    "    elif rating >= 4.0:\n",
    "        return 'Good'\n",
    "    else:\n",
    "        return 'Average'\n",
    "\n",
    "df['Performance Category'] = df['Rating'].apply(categorize_performance)\n",
    "\n",
    "print(df)"
   ]
  },
  {
   "cell_type": "code",
   "execution_count": 22,
   "id": "a7d32a7f-05e1-462b-a650-609ed1d8e353",
   "metadata": {},
   "outputs": [],
   "source": [
    "missing_values = df.isna()"
   ]
  },
  {
   "cell_type": "code",
   "execution_count": 23,
   "id": "a99968e2-34c4-4680-937c-7bffd388e245",
   "metadata": {},
   "outputs": [
    {
     "name": "stdout",
     "output_type": "stream",
     "text": [
      "Missing values in DataFrame (True = Missing, False = Not Missing):\n",
      "   Employee ID   Name  Department    Age  Salary  Years of Experience  \\\n",
      "0        False  False       False  False   False                False   \n",
      "1        False  False       False  False   False                False   \n",
      "2        False  False       False  False   False                False   \n",
      "3        False  False       False  False   False                False   \n",
      "4        False  False       False  False   False                False   \n",
      "\n",
      "   Joining Date  Gender  Bonus  Rating  Performance Category  \n",
      "0         False   False  False   False                 False  \n",
      "1         False   False  False   False                 False  \n",
      "2         False   False  False   False                 False  \n",
      "3         False   False  False   False                 False  \n",
      "4         False   False  False   False                 False  \n"
     ]
    }
   ],
   "source": [
    "print(\"Missing values in DataFrame (True = Missing, False = Not Missing):\")\n",
    "print(missing_values)\n"
   ]
  },
  {
   "cell_type": "code",
   "execution_count": 24,
   "id": "95956eae-0470-4f76-b1d6-2e7eae8236cd",
   "metadata": {},
   "outputs": [
    {
     "name": "stdout",
     "output_type": "stream",
     "text": [
      "    ID     Name Department  Age  Salary  Years of Experience Joining Date  \\\n",
      "0  101    Alice         HR   29   50000                    4   2020-03-15   \n",
      "1  102      Bob         IT   34   70000                    8   2017-07-19   \n",
      "2  103  Charlie         IT   41   65000                   10   2013-06-01   \n",
      "3  104    Diana  Marketing   28   55000                    3   2021-02-10   \n",
      "4  105   Edward      Sales   38   60000                   12   2021-11-25   \n",
      "\n",
      "   Gender  Bonus  Rating Performance Category  \n",
      "0  Female   5000     4.5            Excellent  \n",
      "1    Male   7000     4.0                 Good  \n",
      "2    Male   6000     3.8              Average  \n",
      "3  Female   4500     4.7            Excellent  \n",
      "4    Male   5000     3.5              Average  \n"
     ]
    }
   ],
   "source": [
    "df.rename(columns={'Employee ID': 'ID'}, inplace=True)\n",
    "print(df)"
   ]
  },
  {
   "cell_type": "code",
   "execution_count": 27,
   "id": "443bc238-3bdf-4bfc-985c-756349be6d87",
   "metadata": {},
   "outputs": [
    {
     "name": "stdout",
     "output_type": "stream",
     "text": [
      "    ID     Name Department  Age  Salary  Years of Experience Joining Date  \\\n",
      "0  101    Alice         HR   29   50000                    4   2020-03-15   \n",
      "1  102      Bob         IT   34   70000                    8   2017-07-19   \n",
      "2  103  Charlie         IT   41   65000                   10   2013-06-01   \n",
      "3  104    Diana  Marketing   28   55000                    3   2021-02-10   \n",
      "4  105   Edward      Sales   38   60000                   12   2021-11-25   \n",
      "\n",
      "   Gender  Bonus  Rating Performance Category     Tax  \n",
      "0  Female   5000     4.5            Excellent  5000.0  \n",
      "1    Male   7000     4.0                 Good  7000.0  \n",
      "2    Male   6000     3.8              Average  6500.0  \n",
      "3  Female   4500     4.7            Excellent  5500.0  \n",
      "4    Male   5000     3.5              Average  6000.0  \n"
     ]
    }
   ],
   "source": [
    "df['Tax'] = df['Salary'] * 0.10\n",
    "\n",
    "print(df)"
   ]
  },
  {
   "cell_type": "code",
   "execution_count": 28,
   "id": "e6a184cf-bcdc-4436-8c50-9fc9e58863fc",
   "metadata": {},
   "outputs": [
    {
     "name": "stdout",
     "output_type": "stream",
     "text": [
      "File 'employees_with_tax.csv' has been saved successfully.\n"
     ]
    }
   ],
   "source": [
    "df['Tax'] = df['Salary'] * 0.10\n",
    "df.to_csv('employees_with_tax.csv', index=False)\n",
    "\n",
    "print(\"File 'employees_with_tax.csv' has been saved successfully.\")"
   ]
  },
  {
   "cell_type": "code",
   "execution_count": 5,
   "id": "85e13e06-0a5b-47e1-bad5-89669c9977c2",
   "metadata": {},
   "outputs": [
    {
     "data": {
      "text/html": [
       "<div>\n",
       "<style scoped>\n",
       "    .dataframe tbody tr th:only-of-type {\n",
       "        vertical-align: middle;\n",
       "    }\n",
       "\n",
       "    .dataframe tbody tr th {\n",
       "        vertical-align: top;\n",
       "    }\n",
       "\n",
       "    .dataframe thead th {\n",
       "        text-align: right;\n",
       "    }\n",
       "</style>\n",
       "<table border=\"1\" class=\"dataframe\">\n",
       "  <thead>\n",
       "    <tr style=\"text-align: right;\">\n",
       "      <th></th>\n",
       "      <th>Id</th>\n",
       "      <th>SepalLengthCm</th>\n",
       "      <th>SepalWidthCm</th>\n",
       "      <th>PetalLengthCm</th>\n",
       "      <th>PetalWidthCm</th>\n",
       "      <th>Species</th>\n",
       "    </tr>\n",
       "  </thead>\n",
       "  <tbody>\n",
       "    <tr>\n",
       "      <th>0</th>\n",
       "      <td>1</td>\n",
       "      <td>5.1</td>\n",
       "      <td>3.5</td>\n",
       "      <td>1.4</td>\n",
       "      <td>0.2</td>\n",
       "      <td>Iris-setosa</td>\n",
       "    </tr>\n",
       "    <tr>\n",
       "      <th>1</th>\n",
       "      <td>2</td>\n",
       "      <td>4.9</td>\n",
       "      <td>3.0</td>\n",
       "      <td>1.4</td>\n",
       "      <td>0.2</td>\n",
       "      <td>Iris-setosa</td>\n",
       "    </tr>\n",
       "    <tr>\n",
       "      <th>2</th>\n",
       "      <td>3</td>\n",
       "      <td>4.7</td>\n",
       "      <td>3.2</td>\n",
       "      <td>1.3</td>\n",
       "      <td>0.2</td>\n",
       "      <td>Iris-setosa</td>\n",
       "    </tr>\n",
       "    <tr>\n",
       "      <th>3</th>\n",
       "      <td>4</td>\n",
       "      <td>4.6</td>\n",
       "      <td>3.1</td>\n",
       "      <td>1.5</td>\n",
       "      <td>0.2</td>\n",
       "      <td>Iris-setosa</td>\n",
       "    </tr>\n",
       "    <tr>\n",
       "      <th>4</th>\n",
       "      <td>5</td>\n",
       "      <td>5.0</td>\n",
       "      <td>3.6</td>\n",
       "      <td>1.4</td>\n",
       "      <td>0.2</td>\n",
       "      <td>Iris-setosa</td>\n",
       "    </tr>\n",
       "  </tbody>\n",
       "</table>\n",
       "</div>"
      ],
      "text/plain": [
       "   Id  SepalLengthCm  SepalWidthCm  PetalLengthCm  PetalWidthCm      Species\n",
       "0   1            5.1           3.5            1.4           0.2  Iris-setosa\n",
       "1   2            4.9           3.0            1.4           0.2  Iris-setosa\n",
       "2   3            4.7           3.2            1.3           0.2  Iris-setosa\n",
       "3   4            4.6           3.1            1.5           0.2  Iris-setosa\n",
       "4   5            5.0           3.6            1.4           0.2  Iris-setosa"
      ]
     },
     "execution_count": 5,
     "metadata": {},
     "output_type": "execute_result"
    }
   ],
   "source": [
    "import pandas as pd\n",
    "file_path = r'C:\\Users\\harse\\Downloads\\archive\\Iris.csv' \n",
    "iris_data = pd.read_csv(file_path)\n",
    "iris_data.head(5)\n"
   ]
  },
  {
   "cell_type": "code",
   "execution_count": 6,
   "id": "32bff17c-7be3-4e3f-9376-19c7d136fa68",
   "metadata": {},
   "outputs": [
    {
     "name": "stdout",
     "output_type": "stream",
     "text": [
      "   Id  SepalLengthCm  PetalLengthCm  PetalWidthCm      Species\n",
      "0   1            5.1            1.4           0.2  Iris-setosa\n",
      "1   2            4.9            1.4           0.2  Iris-setosa\n",
      "2   3            4.7            1.3           0.2  Iris-setosa\n",
      "4   5            5.0            1.4           0.2  Iris-setosa\n",
      "5   6            5.4            1.7           0.4  Iris-setosa\n"
     ]
    }
   ],
   "source": [
    "import pandas as pd\n",
    "file_path = r'C:\\Users\\harse\\Downloads\\archive\\Iris.csv'  \n",
    "iris_data = pd.read_csv(file_path)\n",
    "iris_data = iris_data.drop(index=3)\n",
    "iris_data = iris_data.drop(iris_data.columns[2], axis=1)\n",
    "print(iris_data.head()) \n"
   ]
  },
  {
   "cell_type": "code",
   "execution_count": null,
   "id": "2147d7a5-6f4c-4ec1-804b-a2f96485d665",
   "metadata": {},
   "outputs": [],
   "source": []
  }
 ],
 "metadata": {
  "kernelspec": {
   "display_name": "Python 3 (ipykernel)",
   "language": "python",
   "name": "python3"
  },
  "language_info": {
   "codemirror_mode": {
    "name": "ipython",
    "version": 3
   },
   "file_extension": ".py",
   "mimetype": "text/x-python",
   "name": "python",
   "nbconvert_exporter": "python",
   "pygments_lexer": "ipython3",
   "version": "3.13.1"
  }
 },
 "nbformat": 4,
 "nbformat_minor": 5
}
